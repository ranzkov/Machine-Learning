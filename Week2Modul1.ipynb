{
  "nbformat": 4,
  "nbformat_minor": 0,
  "metadata": {
    "colab": {
      "provenance": [],
      "authorship_tag": "ABX9TyMlkXHHt03ir6qSaK/jitjJ",
      "include_colab_link": true
    },
    "kernelspec": {
      "name": "python3",
      "display_name": "Python 3"
    },
    "language_info": {
      "name": "python"
    }
  },
  "cells": [
    {
      "cell_type": "markdown",
      "metadata": {
        "id": "view-in-github",
        "colab_type": "text"
      },
      "source": [
        "<a href=\"https://colab.research.google.com/github/ranzkov/Pembelajaran-Mesin/blob/main/Week2Modul1.ipynb\" target=\"_parent\"><img src=\"https://colab.research.google.com/assets/colab-badge.svg\" alt=\"Open In Colab\"/></a>"
      ]
    },
    {
      "cell_type": "code",
      "execution_count": null,
      "metadata": {
        "colab": {
          "base_uri": "https://localhost:8080/"
        },
        "id": "5pUBP-kEigZr",
        "outputId": "f658d4af-b2d1-49eb-8cec-bf11faeb7f70"
      },
      "outputs": [
        {
          "output_type": "stream",
          "name": "stdout",
          "text": [
            "[0.0, 0.16666666666666666, 0.3333333333333333, 0.6666666666666666, 1.0]\n"
          ]
        }
      ],
      "source": [
        "def norm_data(data):\n",
        "    \"\"\"\n",
        "    Melakukan normalisasi data.\n",
        "\n",
        "    Parameters:\n",
        "    data (list): Data yang akan dinormalisasi\n",
        "\n",
        "    Returns:\n",
        "    list: Data hasil normalisasi\n",
        "    \"\"\"\n",
        "    data_max = max(data)\n",
        "    data_min = min(data)\n",
        "    data_len = len(data)\n",
        "\n",
        "    for i in range(data_len):\n",
        "        data[i] = (data[i] - data_min) / (data_max - data_min)\n",
        "\n",
        "    return data\n",
        "\n",
        "# Contoh Penggunaan\n",
        "data = [10, 11, 12, 14, 16]\n",
        "n_data = norm_data(data)  # melakukan normalisasi\n",
        "print(n_data)\n"
      ]
    },
    {
      "cell_type": "code",
      "source": [
        "import numpy as np\n",
        "from sklearn.preprocessing import MinMaxScaler\n",
        "\n",
        "# Mengatur opsi tampilan numpy\n",
        "np.set_printoptions(precision=6)  # Membulatkan angka desimal hingga 6 angka di belakang koma\n",
        "np.set_printoptions(suppress=True)  # Menghilangkan notasi ilmiah (e)\n",
        "\n",
        "# Membentuk data\n",
        "data = [\n",
        "    [100, 0.0001],\n",
        "    [50, 0.05],\n",
        "    [30, 0.003]\n",
        "]\n",
        "\n",
        "# Ubah ke bentuk numpy n-dimensional array\n",
        "data = np.asarray(data)\n",
        "print('Data Asli:')\n",
        "print(data)\n",
        "\n",
        "# Mendefinisikan obyek MinMaxScaler\n",
        "scaler = MinMaxScaler()\n",
        "\n",
        "# Transformasikan data\n",
        "scaled = scaler.fit_transform(data)\n",
        "print('Data Normalisasi:')\n",
        "print(scaled)\n"
      ],
      "metadata": {
        "colab": {
          "base_uri": "https://localhost:8080/"
        },
        "id": "Nv9LlRebiz8y",
        "outputId": "7b441fa3-1a2d-4522-fae0-036c58698c26"
      },
      "execution_count": null,
      "outputs": [
        {
          "output_type": "stream",
          "name": "stdout",
          "text": [
            "Data Asli:\n",
            "[[100.       0.0001]\n",
            " [ 50.       0.05  ]\n",
            " [ 30.       0.003 ]]\n",
            "Data Normalisasi:\n",
            "[[1.       0.      ]\n",
            " [0.285714 1.      ]\n",
            " [0.       0.058116]]\n"
          ]
        }
      ]
    },
    {
      "cell_type": "code",
      "source": [
        "import numpy as np\n",
        "from sklearn.preprocessing import StandardScaler\n",
        "\n",
        "# Mengatur opsi tampilan numpy\n",
        "np.set_printoptions(precision=6)  # Membulatkan angka desimal hingga 6 angka di belakang koma\n",
        "np.set_printoptions(suppress=True)  # Menghilangkan notasi ilmiah (e)\n",
        "\n",
        "# Membentuk data\n",
        "# Hal ini dikarenakan, scikit-learn hanya menerima input dalam bentuk n-dimensional array\n",
        "data = [\n",
        "    [100, 0.0001],\n",
        "    [50, 0.05],\n",
        "    [30, 0.003]\n",
        "]\n",
        "\n",
        "# Ubah ke bentuk numpy n-dimensional array\n",
        "data = np.asarray(data)\n",
        "print('Data Asli:')\n",
        "print(data)\n",
        "\n",
        "# Mendefinisikan obyek StandardScaler\n",
        "scaler = StandardScaler()\n",
        "\n",
        "# Transformasikan data\n",
        "scaled = scaler.fit_transform(data)\n",
        "print('Data Standarisasi:')\n",
        "print(scaled)\n"
      ],
      "metadata": {
        "colab": {
          "base_uri": "https://localhost:8080/"
        },
        "id": "LKhCLJcYjXsf",
        "outputId": "2efa919d-c49a-4e64-86bb-8b18a6796879"
      },
      "execution_count": null,
      "outputs": [
        {
          "output_type": "stream",
          "name": "stdout",
          "text": [
            "Data Asli:\n",
            "[[100.       0.0001]\n",
            " [ 50.       0.05  ]\n",
            " [ 30.       0.003 ]]\n",
            "Data Standarisasi:\n",
            "[[ 1.358732 -0.76956 ]\n",
            " [-0.339683  1.412317]\n",
            " [-1.019049 -0.642757]]\n"
          ]
        }
      ]
    },
    {
      "cell_type": "code",
      "source": [
        "from sklearn.preprocessing import OrdinalEncoder\n",
        "\n",
        "# Inisiasi obyek OrdinalEncoder\n",
        "oe = OrdinalEncoder()\n",
        "\n",
        "# Definisikan data dalam bentuk 2D\n",
        "data = [\n",
        "    ['Politeknik Negeri Malang'],\n",
        "    ['Politeknik Elektronika Negeri Surabaya'],\n",
        "    ['Politeknik Negeri Jakarta'],\n",
        "    ['Politeknik Negeri Semarang']\n",
        "]\n",
        "\n",
        "# Transformasi Ordinal Encoder\n",
        "transform_oe = oe.fit_transform(data)\n",
        "\n",
        "# Cetak hasil\n",
        "print('Data Asli:')\n",
        "print(data)\n",
        "print('Data Transformasi Ordinal Encoder:')\n",
        "print(transform_oe)\n"
      ],
      "metadata": {
        "colab": {
          "base_uri": "https://localhost:8080/"
        },
        "id": "ozgoslfVjgvq",
        "outputId": "7978c302-2a80-487c-8ad6-474bd559970d"
      },
      "execution_count": null,
      "outputs": [
        {
          "output_type": "stream",
          "name": "stdout",
          "text": [
            "Data Asli:\n",
            "[['Politeknik Negeri Malang'], ['Politeknik Elektronika Negeri Surabaya'], ['Politeknik Negeri Jakarta'], ['Politeknik Negeri Semarang']]\n",
            "Data Transformasi Ordinal Encoder:\n",
            "[[2.]\n",
            " [0.]\n",
            " [1.]\n",
            " [3.]]\n"
          ]
        }
      ]
    },
    {
      "cell_type": "code",
      "source": [
        "from sklearn.preprocessing import OneHotEncoder\n",
        "\n",
        "# Inisiasi obyek OneHotEncoder\n",
        "ohe = OneHotEncoder()\n",
        "\n",
        "# Definisikan data dalam bentuk 2D\n",
        "data = [\n",
        "    ['Politeknik Negeri Malang'],\n",
        "    ['Politeknik Elektronika Negeri Surabaya'],\n",
        "    ['Politeknik Negeri Jakarta'],\n",
        "    ['Politeknik Negeri Semarang']\n",
        "]\n",
        "\n",
        "# Transformasi One-Hot Encoding\n",
        "transform_ohe = ohe.fit_transform(data)\n",
        "\n",
        "# Cetak data asli dan hasil transformasi\n",
        "print('Data Asli')\n",
        "print(data)\n",
        "print('Data Transformasi One-Hot Encoding')\n",
        "print(transform_ohe.toarray())\n"
      ],
      "metadata": {
        "colab": {
          "base_uri": "https://localhost:8080/"
        },
        "id": "Id1ny9eYmjo-",
        "outputId": "34cbe54a-c3bb-42da-a3c5-7b9010ed182a"
      },
      "execution_count": null,
      "outputs": [
        {
          "output_type": "stream",
          "name": "stdout",
          "text": [
            "Data Asli\n",
            "[['Politeknik Negeri Malang'], ['Politeknik Elektronika Negeri Surabaya'], ['Politeknik Negeri Jakarta'], ['Politeknik Negeri Semarang']]\n",
            "Data Transformasi One-Hot Encoding\n",
            "[[0. 0. 1. 0.]\n",
            " [1. 0. 0. 0.]\n",
            " [0. 1. 0. 0.]\n",
            " [0. 0. 0. 1.]]\n"
          ]
        }
      ]
    },
    {
      "cell_type": "code",
      "source": [
        "from sklearn.preprocessing import OneHotEncoder\n",
        "\n",
        "# Inisiasi obyek OneHotEncoder dengan drop='first'\n",
        "ohe = OneHotEncoder(drop='first')\n",
        "\n",
        "# Definisikan data dalam bentuk 2D\n",
        "data = [\n",
        "    ['Politeknik Negeri Malang'],\n",
        "    ['Politeknik Elektronika Negeri Surabaya'],\n",
        "    ['Politeknik Negeri Jakarta'],\n",
        "    ['Politeknik Negeri Semarang']\n",
        "]\n",
        "\n",
        "# Transformasi One-Hot Encoding\n",
        "transform_ohe = ohe.fit_transform(data)\n",
        "\n",
        "# Cetak data asli dan hasil transformasi\n",
        "print('Data Asli')\n",
        "print(data)\n",
        "print('Data Transformasi One-Hot Encoding')\n",
        "print(transform_ohe.toarray())\n"
      ],
      "metadata": {
        "colab": {
          "base_uri": "https://localhost:8080/"
        },
        "id": "XpxFp7qxoSbM",
        "outputId": "f31d9112-44b9-4ec2-e8d8-e85fb4d74e31"
      },
      "execution_count": null,
      "outputs": [
        {
          "output_type": "stream",
          "name": "stdout",
          "text": [
            "Data Asli\n",
            "[['Politeknik Negeri Malang'], ['Politeknik Elektronika Negeri Surabaya'], ['Politeknik Negeri Jakarta'], ['Politeknik Negeri Semarang']]\n",
            "Data Transformasi One-Hot Encoding\n",
            "[[0. 1. 0.]\n",
            " [0. 0. 0.]\n",
            " [1. 0. 0.]\n",
            " [0. 0. 1.]]\n"
          ]
        }
      ]
    },
    {
      "cell_type": "code",
      "source": [
        "# Definisikan corpus\n",
        "corpus = [\n",
        "    'the house had a tiny little mouse',\n",
        "    'the cat saw the mouse',\n",
        "    'the mouse ran away from the house',\n",
        "    'the cat finally ate the mouse',\n",
        "    'the end of the mouse story'\n",
        "]\n",
        "\n",
        "print('Corpus:')\n",
        "for doc in corpus:\n",
        "    print(doc)\n"
      ],
      "metadata": {
        "id": "XR9V4xsVor1m",
        "colab": {
          "base_uri": "https://localhost:8080/"
        },
        "outputId": "e1af49bd-deff-4bff-d1a8-bfc0ee165f3c"
      },
      "execution_count": null,
      "outputs": [
        {
          "output_type": "stream",
          "name": "stdout",
          "text": [
            "Corpus:\n",
            "the house had a tiny little mouse\n",
            "the cat saw the mouse\n",
            "the mouse ran away from the house\n",
            "the cat finally ate the mouse\n",
            "the end of the mouse story\n"
          ]
        }
      ]
    },
    {
      "cell_type": "code",
      "source": [
        "from sklearn.feature_extraction.text import TfidfVectorizer\n",
        "\n",
        "# Inisiasi obyek TfidfVectorizer\n",
        "vect = TfidfVectorizer(stop_words='english')\n",
        "\n",
        "# Pembobotan TF-IDF\n",
        "resp = vect.fit_transform(corpus)\n",
        "\n",
        "\n",
        "print(resp)\n",
        "\n"
      ],
      "metadata": {
        "colab": {
          "base_uri": "https://localhost:8080/"
        },
        "id": "_tTWeMHJtdt-",
        "outputId": "38550eb5-b368-49fc-b7ef-a65a29fb9fab"
      },
      "execution_count": null,
      "outputs": [
        {
          "output_type": "stream",
          "name": "stdout",
          "text": [
            "  (0, 7)\t0.2808823162882302\n",
            "  (0, 6)\t0.5894630806320427\n",
            "  (0, 11)\t0.5894630806320427\n",
            "  (0, 5)\t0.47557510189256375\n",
            "  (1, 9)\t0.7297183669435993\n",
            "  (1, 2)\t0.5887321837696324\n",
            "  (1, 7)\t0.3477147117091919\n",
            "  (2, 1)\t0.5894630806320427\n",
            "  (2, 8)\t0.5894630806320427\n",
            "  (2, 7)\t0.2808823162882302\n",
            "  (2, 5)\t0.47557510189256375\n",
            "  (3, 0)\t0.5894630806320427\n",
            "  (3, 4)\t0.5894630806320427\n",
            "  (3, 2)\t0.47557510189256375\n",
            "  (3, 7)\t0.2808823162882302\n",
            "  (4, 10)\t0.6700917930430479\n",
            "  (4, 3)\t0.6700917930430479\n",
            "  (4, 7)\t0.3193023297639811\n",
            "<bound method _cs_matrix.toarray of <5x12 sparse matrix of type '<class 'numpy.float64'>'\n",
            "\twith 18 stored elements in Compressed Sparse Row format>>\n"
          ]
        }
      ]
    },
    {
      "cell_type": "code",
      "source": [
        "vect.get_feature_names_out()"
      ],
      "metadata": {
        "colab": {
          "base_uri": "https://localhost:8080/"
        },
        "id": "95e_CC2JtdnD",
        "outputId": "c76de9e4-5827-4cf0-8bf1-ee71a3aaef45"
      },
      "execution_count": null,
      "outputs": [
        {
          "output_type": "execute_result",
          "data": {
            "text/plain": [
              "array(['ate', 'away', 'cat', 'end', 'finally', 'house', 'little', 'mouse',\n",
              "       'ran', 'saw', 'story', 'tiny'], dtype=object)"
            ]
          },
          "metadata": {},
          "execution_count": 11
        }
      ]
    },
    {
      "cell_type": "code",
      "source": [
        "# Definisikan corpus\n",
        "corpus = [\n",
        "    'the house had a tiny little mouse',\n",
        "    'the cat saw the mouse',\n",
        "    'the mouse ran away from the house',\n",
        "    'the cat finally ate the mouse',\n",
        "    'the end of the mouse story'\n",
        "]"
      ],
      "metadata": {
        "id": "QSA9JoNW2PME"
      },
      "execution_count": null,
      "outputs": []
    },
    {
      "cell_type": "code",
      "source": [
        "from sklearn.feature_extraction.text import TfidfVectorizer\n",
        "\n",
        "# Definisikan corpus (contoh data)\n",
        "corpus = [\n",
        "    'the house had a tiny little mouse',\n",
        "    'the cat saw the mouse',\n",
        "    'the mouse ran away from the house',\n",
        "    'the cat finally ate the mouse',\n",
        "    'the end of the mouse story'\n",
        "]\n",
        "\n",
        "# Inisiasi obyek TfidfVectorizer\n",
        "vect = TfidfVectorizer(stop_words='english')\n",
        "\n",
        "# Pembobotan TF-IDF\n",
        "resp = vect.fit_transform(corpus)\n",
        "\n",
        "# Cetak hasil TF-IDF\n",
        "print('Hasil TF-IDF:')\n",
        "print(resp.toarray())\n",
        "\n",
        "# Cetak token hasil stopword\n",
        "print('Hasil Token:')\n",
        "print(vect.get_feature_names_out())\n"
      ],
      "metadata": {
        "id": "kdL6sqO94qK2",
        "outputId": "2a19e916-4853-4541-b94c-b2e6f4cba505",
        "colab": {
          "base_uri": "https://localhost:8080/"
        }
      },
      "execution_count": null,
      "outputs": [
        {
          "output_type": "stream",
          "name": "stdout",
          "text": [
            "Hasil TF-IDF:\n",
            "[[0.       0.       0.       0.       0.       0.475575 0.589463 0.280882\n",
            "  0.       0.       0.       0.589463]\n",
            " [0.       0.       0.588732 0.       0.       0.       0.       0.347715\n",
            "  0.       0.729718 0.       0.      ]\n",
            " [0.       0.589463 0.       0.       0.       0.475575 0.       0.280882\n",
            "  0.589463 0.       0.       0.      ]\n",
            " [0.589463 0.       0.475575 0.       0.589463 0.       0.       0.280882\n",
            "  0.       0.       0.       0.      ]\n",
            " [0.       0.       0.       0.670092 0.       0.       0.       0.319302\n",
            "  0.       0.       0.670092 0.      ]]\n",
            "Hasil Token:\n",
            "['ate' 'away' 'cat' 'end' 'finally' 'house' 'little' 'mouse' 'ran' 'saw'\n",
            " 'story' 'tiny']\n"
          ]
        }
      ]
    },
    {
      "cell_type": "code",
      "source": [
        "from sklearn.feature_extraction.text import TfidfVectorizer\n",
        "\n",
        "# Membaca file corpus.txt\n",
        "with open('corpus.txt', 'r') as file:\n",
        "    corpus = file.readlines()\n",
        "\n",
        "# Menghapus newline karakter dari setiap baris\n",
        "corpus = [line.strip() for line in corpus]\n",
        "\n",
        "# Inisiasi obyek TfidfVectorizer\n",
        "vect = TfidfVectorizer(stop_words='english')\n",
        "\n",
        "# Pembobotan TF-IDF\n",
        "tfidf_matrix = vect.fit_transform(corpus)\n",
        "\n",
        "# Cetak hasil\n",
        "print('Fitur TF-IDF:')\n",
        "print(vect.get_feature_names_out())  # Menampilkan nama fitur\n",
        "print('Matriks TF-IDF:')\n",
        "print(tfidf_matrix.toarray())  # Menampilkan matriks TF-IDF\n"
      ],
      "metadata": {
        "colab": {
          "base_uri": "https://localhost:8080/"
        },
        "id": "qSv72x2r2Z32",
        "outputId": "ec59ef5d-5888-41dd-98f9-293a645e75f8"
      },
      "execution_count": null,
      "outputs": [
        {
          "output_type": "stream",
          "name": "stdout",
          "text": [
            "Fitur TF-IDF:\n",
            "['ate' 'away' 'cat' 'corpus' 'definisikan' 'end' 'finally' 'house'\n",
            " 'little' 'mouse' 'ran' 'saw' 'story' 'tiny']\n",
            "Matriks TF-IDF:\n",
            "[[0.       0.       0.       0.642328 0.76643  0.       0.       0.\n",
            "  0.       0.       0.       0.       0.       0.      ]\n",
            " [0.       0.       0.       1.       0.       0.       0.       0.\n",
            "  0.       0.       0.       0.       0.       0.      ]\n",
            " [0.       0.       0.       0.       0.       0.       0.       0.482467\n",
            "  0.575683 0.323114 0.       0.       0.       0.575683]\n",
            " [0.       0.       0.59005  0.       0.       0.       0.       0.\n",
            "  0.       0.395163 0.       0.704051 0.       0.      ]\n",
            " [0.       0.575683 0.       0.       0.       0.       0.       0.482467\n",
            "  0.       0.323114 0.575683 0.       0.       0.      ]\n",
            " [0.575683 0.       0.482467 0.       0.       0.       0.575683 0.\n",
            "  0.       0.323114 0.       0.       0.       0.      ]\n",
            " [0.       0.       0.       0.       0.       0.657237 0.       0.\n",
            "  0.       0.368888 0.       0.       0.657237 0.      ]\n",
            " [0.       0.       0.       0.       0.       0.       0.       0.\n",
            "  0.       0.       0.       0.       0.       0.      ]]\n"
          ]
        }
      ]
    }
  ]
}